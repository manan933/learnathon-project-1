{
 "cells": [
  {
   "cell_type": "code",
   "execution_count": null,
   "id": "e17484e1",
   "metadata": {},
   "outputs": [],
   "source": [
    "import pandas as pd\n",
    "\n",
    "df = pd.read_csv('crop_recommendation.csv') #load the dataset\n",
    "print(df.head()) #display the first few rows of the dataset\n",
    "print(df.info()) #display information about the dataset\n"
   ]
  },
  {
   "cell_type": "code",
   "execution_count": null,
   "id": "0c414176",
   "metadata": {},
   "outputs": [],
   "source": [
    "df.isnull().sum() # Check for missing/null values in the dataset\n"
   ]
  },
  {
   "cell_type": "code",
   "execution_count": null,
   "id": "56f0a5dd",
   "metadata": {},
   "outputs": [],
   "source": [
    "from sklearn.model_selection import train_test_split\n",
    "\n",
    "X = df.drop('label', axis=1) # Features (N, P, K, temperature, humidity, ph, rainfall)\n",
    "y = df['label']\n",
    "\n",
    "X_train, X_test, y_train, y_test = train_test_split(X, y, test_size=0.2, random_state=42) # Split the dataset into training and testing sets\n"
   ]
  },
  {
   "cell_type": "code",
   "execution_count": null,
   "id": "48105362",
   "metadata": {},
   "outputs": [],
   "source": [
    "from sklearn.ensemble import RandomForestClassifier \n",
    "from sklearn.metrics import accuracy_score, classification_report\n",
    "\n",
    "model = RandomForestClassifier() #high data accuracy\n",
    "model.fit(X_train, y_train)\n",
    "\n",
    "y_pred = model.predict(X_test)\n",
    "print(\"Accuracy:\", accuracy_score(y_test, y_pred)) # Print accuracy of the model\n",
    "print(classification_report(y_test, y_pred)) # Print classification report\n"
   ]
  },
  {
   "cell_type": "code",
   "execution_count": null,
   "id": "8207c7fe",
   "metadata": {},
   "outputs": [],
   "source": [
    "def recommend_crop(N, P, K, temperature, humidity, ph, rainfall): # Function to recommend crops based on input parameters\n",
    "    input_data = pd.DataFrame([[N, P, K, temperature, humidity, ph, rainfall]],\n",
    "                              columns=['N', 'P', 'K', 'temperature', 'humidity', 'ph', 'rainfall'])\n",
    "    \n",
    "    probs = model.predict_proba(input_data)[0] #\n",
    "    top_5_indices = probs.argsort()[::-1][:5] # Get indices of top 5 crops\n",
    "    top_5_crops = [(model.classes_[i], round(probs[i]*100, 2)) for i in top_5_indices] #get top 5 crops with their probabilities\n",
    "    \n",
    "    return top_5_crops\n"
   ]
  },
  {
   "cell_type": "code",
   "execution_count": null,
   "id": "ad558379",
   "metadata": {},
   "outputs": [],
   "source": [
    "import joblib\n",
    "joblib.dump(model, 'crop_recommendation_model.pkl') # Save the trained model to a file for future use\n"
   ]
  },
  {
   "cell_type": "code",
   "execution_count": null,
   "id": "91b4764f",
   "metadata": {},
   "outputs": [],
   "source": [
    "%pip install matplotlib #graphical representation of the data\n"
   ]
  },
  {
   "cell_type": "code",
   "execution_count": 69,
   "id": "6c8f8b6f",
   "metadata": {},
   "outputs": [],
   "source": [
    "# crop_recommend_cli.py\n",
    "\n",
    "import pandas as pd\n",
    "import joblib\n",
    "import matplotlib.pyplot as plt\n",
    "\n",
    "model = joblib.load('crop_recommendation_model.pkl')\n",
    "\n",
    "def recommend_crop(N, P, K, temperature, humidity, ph, rainfall):\n",
    "    input_data = pd.DataFrame([[N, P, K, temperature, humidity, ph, rainfall]],\n",
    "                              columns=['N', 'P', 'K', 'temperature', 'humidity', 'ph', 'rainfall'])\n",
    "    probs = model.predict_proba(input_data)[0] #get probabilities of each crop\n",
    "    top_5_indices = probs.argsort()[::-1][:5] # Get indices of top 5 crops\n",
    "    top_5_crops = [(model.classes_[i], round(probs[i]*100, 2)) for i in top_5_indices] #get top 5 crops with their probabilities\n",
    "    return top_5_crops\n",
    "\n",
    "def plot_recommendations(crops):\n",
    "    labels = [crop for crop, _ in crops] \n",
    "    scores = [score for _, score in crops]\n",
    "\n",
    "    plt.figure(figsize=(8, 5))\n",
    "    bars = plt.barh(labels[::-1], scores[::-1], color='red',edgecolor='black')\n",
    "    plt.xlabel(\"Suitability (%)\")\n",
    "    plt.title(\"Top 5 Recommended Crops\")\n",
    "    plt.tight_layout()\n",
    "\n",
    "    # Add confidence % on bars\n",
    "    for bar, score in zip(bars, scores[::-1]):\n",
    "        plt.text(bar.get_width() + 1, bar.get_y() + bar.get_height()/2,\n",
    "                 f\"{score}%\", va='center')\n",
    "    \n",
    "    plt.show()\n",
    "\n",
    "def main():\n",
    "    print(\"\\n🌾 Data-Driven Crop advisory system 🌾\")\n",
    "    try:\n",
    "        N = float(input(\"Enter Nitrogen (N): \"))\n",
    "        P = float(input(\"Enter Phosphorous (P): \"))\n",
    "        K = float(input(\"Enter Potassium (K): \"))\n",
    "        temperature = float(input(\"Enter Temperature (°C): \"))\n",
    "        humidity = float(input(\"Enter Humidity (%): \"))\n",
    "        ph = float(input(\"Enter pH Level: \"))\n",
    "        rainfall = float(input(\"Enter Rainfall (mm): \"))\n",
    "\n",
    "        top_crops = recommend_crop(N, P, K, temperature, humidity, ph, rainfall)\n",
    "\n",
    "        print(\"\\nTop 5 Recommended Crops Based on Your Input:\")\n",
    "        for idx, (crop, _) in enumerate(top_crops, 1):\n",
    "            print(f\"{idx}. {crop}\")\n",
    "\n",
    "        plot_recommendations(top_crops)\n",
    "\n",
    "    except Exception as e:\n",
    "        print(\"\\n❌ Error occurred:\")\n",
    "        print(e)\n",
    "\n",
    "    input(\"\\nPress Enter to exit...\")\n",
    "\n",
    "if __name__ == \"__main__\":\n",
    "    main()\n"
   ]
  }
 ],
 "metadata": {
  "kernelspec": {
   "display_name": "Python 3",
   "language": "python",
   "name": "python3"
  },
  "language_info": {
   "codemirror_mode": {
    "name": "ipython",
    "version": 3
   },
   "file_extension": ".py",
   "mimetype": "text/x-python",
   "name": "python",
   "nbconvert_exporter": "python",
   "pygments_lexer": "ipython3",
   "version": "3.11.9"
  }
 },
 "nbformat": 4,
 "nbformat_minor": 5
}
